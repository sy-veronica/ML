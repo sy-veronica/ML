{
  "nbformat": 4,
  "nbformat_minor": 0,
  "metadata": {
    "colab": {
      "provenance": [],
      "mount_file_id": "1iovMok5vTXFD9RHBcvALy4jbOgRbbEM9",
      "authorship_tag": "ABX9TyOhbhgevZ0yLKqqGYKa/pYz",
      "include_colab_link": true
    },
    "kernelspec": {
      "name": "python3",
      "display_name": "Python 3"
    },
    "language_info": {
      "name": "python"
    }
  },
  "cells": [
    {
      "cell_type": "markdown",
      "metadata": {
        "id": "view-in-github",
        "colab_type": "text"
      },
      "source": [
        "<a href=\"https://colab.research.google.com/github/sy-veronica/ML/blob/main/02_Multiple_Linear_Regression.ipynb\" target=\"_parent\"><img src=\"https://colab.research.google.com/assets/colab-badge.svg\" alt=\"Open In Colab\"/></a>"
      ]
    },
    {
      "cell_type": "markdown",
      "source": [
        "# **2. Multiple Linear Regression (다중 선형 회귀)**"
      ],
      "metadata": {
        "id": "w6EIYq4QZ8DD"
      }
    },
    {
      "cell_type": "markdown",
      "source": [
        "### **One-Hot Encoding (원-핫 인코딩)**\n"
      ],
      "metadata": {
        "id": "CQywo3klaGQR"
      }
    },
    {
      "cell_type": "code",
      "source": [
        "# (1) 라이브러리 불러오기\n",
        "import pandas as pd\n",
        "import matplotlib.pyplot as plt"
      ],
      "metadata": {
        "id": "wAjBoTgqaFrW"
      },
      "execution_count": 44,
      "outputs": []
    },
    {
      "cell_type": "code",
      "source": [
        "# (2) 데이터 불러오기\n",
        "dataset = pd.read_csv('/content/drive/MyDrive/03. 파이썬 (ML)/02. dataset/MultipleLinearRegressionData.csv')\n",
        "dataset.head()"
      ],
      "metadata": {
        "colab": {
          "base_uri": "https://localhost:8080/",
          "height": 206
        },
        "id": "rlk-AcPBaG9E",
        "outputId": "1e97b69f-82c0-42fb-9dcb-85e7a635f5f7"
      },
      "execution_count": 45,
      "outputs": [
        {
          "output_type": "execute_result",
          "data": {
            "text/plain": [
              "   hour  absent    place  score\n",
              "0   0.5       3     Home     10\n",
              "1   1.2       4  Library      8\n",
              "2   1.8       2     Cafe     14\n",
              "3   2.4       0     Cafe     26\n",
              "4   2.6       2     Home     22"
            ],
            "text/html": [
              "\n",
              "  <div id=\"df-616312d5-3af9-4c2d-bf2a-becc388d5fc0\">\n",
              "    <div class=\"colab-df-container\">\n",
              "      <div>\n",
              "<style scoped>\n",
              "    .dataframe tbody tr th:only-of-type {\n",
              "        vertical-align: middle;\n",
              "    }\n",
              "\n",
              "    .dataframe tbody tr th {\n",
              "        vertical-align: top;\n",
              "    }\n",
              "\n",
              "    .dataframe thead th {\n",
              "        text-align: right;\n",
              "    }\n",
              "</style>\n",
              "<table border=\"1\" class=\"dataframe\">\n",
              "  <thead>\n",
              "    <tr style=\"text-align: right;\">\n",
              "      <th></th>\n",
              "      <th>hour</th>\n",
              "      <th>absent</th>\n",
              "      <th>place</th>\n",
              "      <th>score</th>\n",
              "    </tr>\n",
              "  </thead>\n",
              "  <tbody>\n",
              "    <tr>\n",
              "      <th>0</th>\n",
              "      <td>0.5</td>\n",
              "      <td>3</td>\n",
              "      <td>Home</td>\n",
              "      <td>10</td>\n",
              "    </tr>\n",
              "    <tr>\n",
              "      <th>1</th>\n",
              "      <td>1.2</td>\n",
              "      <td>4</td>\n",
              "      <td>Library</td>\n",
              "      <td>8</td>\n",
              "    </tr>\n",
              "    <tr>\n",
              "      <th>2</th>\n",
              "      <td>1.8</td>\n",
              "      <td>2</td>\n",
              "      <td>Cafe</td>\n",
              "      <td>14</td>\n",
              "    </tr>\n",
              "    <tr>\n",
              "      <th>3</th>\n",
              "      <td>2.4</td>\n",
              "      <td>0</td>\n",
              "      <td>Cafe</td>\n",
              "      <td>26</td>\n",
              "    </tr>\n",
              "    <tr>\n",
              "      <th>4</th>\n",
              "      <td>2.6</td>\n",
              "      <td>2</td>\n",
              "      <td>Home</td>\n",
              "      <td>22</td>\n",
              "    </tr>\n",
              "  </tbody>\n",
              "</table>\n",
              "</div>\n",
              "      <button class=\"colab-df-convert\" onclick=\"convertToInteractive('df-616312d5-3af9-4c2d-bf2a-becc388d5fc0')\"\n",
              "              title=\"Convert this dataframe to an interactive table.\"\n",
              "              style=\"display:none;\">\n",
              "        \n",
              "  <svg xmlns=\"http://www.w3.org/2000/svg\" height=\"24px\"viewBox=\"0 0 24 24\"\n",
              "       width=\"24px\">\n",
              "    <path d=\"M0 0h24v24H0V0z\" fill=\"none\"/>\n",
              "    <path d=\"M18.56 5.44l.94 2.06.94-2.06 2.06-.94-2.06-.94-.94-2.06-.94 2.06-2.06.94zm-11 1L8.5 8.5l.94-2.06 2.06-.94-2.06-.94L8.5 2.5l-.94 2.06-2.06.94zm10 10l.94 2.06.94-2.06 2.06-.94-2.06-.94-.94-2.06-.94 2.06-2.06.94z\"/><path d=\"M17.41 7.96l-1.37-1.37c-.4-.4-.92-.59-1.43-.59-.52 0-1.04.2-1.43.59L10.3 9.45l-7.72 7.72c-.78.78-.78 2.05 0 2.83L4 21.41c.39.39.9.59 1.41.59.51 0 1.02-.2 1.41-.59l7.78-7.78 2.81-2.81c.8-.78.8-2.07 0-2.86zM5.41 20L4 18.59l7.72-7.72 1.47 1.35L5.41 20z\"/>\n",
              "  </svg>\n",
              "      </button>\n",
              "      \n",
              "  <style>\n",
              "    .colab-df-container {\n",
              "      display:flex;\n",
              "      flex-wrap:wrap;\n",
              "      gap: 12px;\n",
              "    }\n",
              "\n",
              "    .colab-df-convert {\n",
              "      background-color: #E8F0FE;\n",
              "      border: none;\n",
              "      border-radius: 50%;\n",
              "      cursor: pointer;\n",
              "      display: none;\n",
              "      fill: #1967D2;\n",
              "      height: 32px;\n",
              "      padding: 0 0 0 0;\n",
              "      width: 32px;\n",
              "    }\n",
              "\n",
              "    .colab-df-convert:hover {\n",
              "      background-color: #E2EBFA;\n",
              "      box-shadow: 0px 1px 2px rgba(60, 64, 67, 0.3), 0px 1px 3px 1px rgba(60, 64, 67, 0.15);\n",
              "      fill: #174EA6;\n",
              "    }\n",
              "\n",
              "    [theme=dark] .colab-df-convert {\n",
              "      background-color: #3B4455;\n",
              "      fill: #D2E3FC;\n",
              "    }\n",
              "\n",
              "    [theme=dark] .colab-df-convert:hover {\n",
              "      background-color: #434B5C;\n",
              "      box-shadow: 0px 1px 3px 1px rgba(0, 0, 0, 0.15);\n",
              "      filter: drop-shadow(0px 1px 2px rgba(0, 0, 0, 0.3));\n",
              "      fill: #FFFFFF;\n",
              "    }\n",
              "  </style>\n",
              "\n",
              "      <script>\n",
              "        const buttonEl =\n",
              "          document.querySelector('#df-616312d5-3af9-4c2d-bf2a-becc388d5fc0 button.colab-df-convert');\n",
              "        buttonEl.style.display =\n",
              "          google.colab.kernel.accessAllowed ? 'block' : 'none';\n",
              "\n",
              "        async function convertToInteractive(key) {\n",
              "          const element = document.querySelector('#df-616312d5-3af9-4c2d-bf2a-becc388d5fc0');\n",
              "          const dataTable =\n",
              "            await google.colab.kernel.invokeFunction('convertToInteractive',\n",
              "                                                     [key], {});\n",
              "          if (!dataTable) return;\n",
              "\n",
              "          const docLinkHtml = 'Like what you see? Visit the ' +\n",
              "            '<a target=\"_blank\" href=https://colab.research.google.com/notebooks/data_table.ipynb>data table notebook</a>'\n",
              "            + ' to learn more about interactive tables.';\n",
              "          element.innerHTML = '';\n",
              "          dataTable['output_type'] = 'display_data';\n",
              "          await google.colab.output.renderOutput(dataTable, element);\n",
              "          const docLink = document.createElement('div');\n",
              "          docLink.innerHTML = docLinkHtml;\n",
              "          element.appendChild(docLink);\n",
              "        }\n",
              "      </script>\n",
              "    </div>\n",
              "  </div>\n",
              "  "
            ]
          },
          "metadata": {},
          "execution_count": 45
        }
      ]
    },
    {
      "cell_type": "code",
      "source": [
        "# (3-1) 독립변수, 원인(X) & 종속변수, 결과(y) 지정하기\n",
        "X = dataset.iloc[:, :-1].values # 처음부터 마지막 컬럼 직전까지의 데이터\n",
        "y = dataset.iloc[:, -1].values  # 마지막 컬럼 데이터\n",
        "X"
      ],
      "metadata": {
        "colab": {
          "base_uri": "https://localhost:8080/"
        },
        "id": "yLQUl7KmaG_o",
        "outputId": "a29e9a4e-ff42-406f-f490-585d3820708d"
      },
      "execution_count": 46,
      "outputs": [
        {
          "output_type": "execute_result",
          "data": {
            "text/plain": [
              "array([[0.5, 3, 'Home'],\n",
              "       [1.2, 4, 'Library'],\n",
              "       [1.8, 2, 'Cafe'],\n",
              "       [2.4, 0, 'Cafe'],\n",
              "       [2.6, 2, 'Home'],\n",
              "       [3.2, 0, 'Home'],\n",
              "       [3.9, 0, 'Library'],\n",
              "       [4.4, 0, 'Library'],\n",
              "       [4.5, 5, 'Home'],\n",
              "       [5.0, 1, 'Cafe'],\n",
              "       [5.3, 2, 'Cafe'],\n",
              "       [5.8, 0, 'Cafe'],\n",
              "       [6.0, 3, 'Library'],\n",
              "       [6.1, 1, 'Cafe'],\n",
              "       [6.2, 1, 'Library'],\n",
              "       [6.9, 4, 'Home'],\n",
              "       [7.2, 2, 'Cafe'],\n",
              "       [8.4, 1, 'Home'],\n",
              "       [8.6, 1, 'Library'],\n",
              "       [10.0, 0, 'Library']], dtype=object)"
            ]
          },
          "metadata": {},
          "execution_count": 46
        }
      ]
    },
    {
      "cell_type": "code",
      "source": [
        "# (3-2) 원-핫 인코딩으로 'place' 컬럼을 구분하기기\n",
        "from sklearn.compose import ColumnTransformer\n",
        "from sklearn.preprocessing import OneHotEncoder\n",
        "\n",
        "ct = ColumnTransformer(transformers = [('encoder', OneHotEncoder(drop='first'), [2])], remainder='passthrough')\n",
        "X = ct.fit_transform(X)\n",
        "X\n",
        "# 1 0 : 'Home'\n",
        "# 0 1 : 'Library'\n",
        "# 0 0 : 'Cafe'"
      ],
      "metadata": {
        "colab": {
          "base_uri": "https://localhost:8080/"
        },
        "id": "eYsI9KywaHCK",
        "outputId": "79829c2b-7465-4ab9-f898-ba7f3a32d171"
      },
      "execution_count": 47,
      "outputs": [
        {
          "output_type": "execute_result",
          "data": {
            "text/plain": [
              "array([[1.0, 0.0, 0.5, 3],\n",
              "       [0.0, 1.0, 1.2, 4],\n",
              "       [0.0, 0.0, 1.8, 2],\n",
              "       [0.0, 0.0, 2.4, 0],\n",
              "       [1.0, 0.0, 2.6, 2],\n",
              "       [1.0, 0.0, 3.2, 0],\n",
              "       [0.0, 1.0, 3.9, 0],\n",
              "       [0.0, 1.0, 4.4, 0],\n",
              "       [1.0, 0.0, 4.5, 5],\n",
              "       [0.0, 0.0, 5.0, 1],\n",
              "       [0.0, 0.0, 5.3, 2],\n",
              "       [0.0, 0.0, 5.8, 0],\n",
              "       [0.0, 1.0, 6.0, 3],\n",
              "       [0.0, 0.0, 6.1, 1],\n",
              "       [0.0, 1.0, 6.2, 1],\n",
              "       [1.0, 0.0, 6.9, 4],\n",
              "       [0.0, 0.0, 7.2, 2],\n",
              "       [1.0, 0.0, 8.4, 1],\n",
              "       [0.0, 1.0, 8.6, 1],\n",
              "       [0.0, 1.0, 10.0, 0]], dtype=object)"
            ]
          },
          "metadata": {},
          "execution_count": 47
        }
      ]
    },
    {
      "cell_type": "markdown",
      "source": [
        "### **데이터 세트 분리**"
      ],
      "metadata": {
        "id": "I2cOx82jiae5"
      }
    },
    {
      "cell_type": "code",
      "source": [
        "# (3-3) 데이터 세트 분리하기\n",
        "from sklearn.model_selection import train_test_split\n",
        "X_train, X_test, y_train, y_test = train_test_split(X, y, test_size=0.2, random_state=0)"
      ],
      "metadata": {
        "id": "bWK-JZ53igoH"
      },
      "execution_count": 48,
      "outputs": []
    },
    {
      "cell_type": "code",
      "execution_count": 49,
      "metadata": {
        "colab": {
          "base_uri": "https://localhost:8080/"
        },
        "id": "_E-s0QKnZ3Dp",
        "outputId": "0a977b3d-ffeb-4791-d7f2-cbd16ccd59b1"
      },
      "outputs": [
        {
          "output_type": "execute_result",
          "data": {
            "text/plain": [
              "LinearRegression()"
            ]
          },
          "metadata": {},
          "execution_count": 49
        }
      ],
      "source": [
        "# (4) 다중 선형 회귀 모델 만들기\n",
        "from sklearn.linear_model import LinearRegression\n",
        "reg = LinearRegression()  # 객체 생성\n",
        "reg.fit(X_train, y_train) # 모델 생성 (학습)"
      ]
    },
    {
      "cell_type": "markdown",
      "source": [
        "### **테스트 세트 : 예측값과 실제값 비교**"
      ],
      "metadata": {
        "id": "PLF0OFVCjYeE"
      }
    },
    {
      "cell_type": "code",
      "source": [
        "# (5) 학습을 통해 생성된 모델을 바탕으로 예측값(y_pred) 출력\n",
        "y_pred = reg.predict(X_test)   # 테스트 세트 x에 대한 예측값(y_pred)\n",
        "y_pred"
      ],
      "metadata": {
        "colab": {
          "base_uri": "https://localhost:8080/"
        },
        "id": "Drm1IF47ig3e",
        "outputId": "1c532b62-92f7-4f6a-a871-25c8ffc27705"
      },
      "execution_count": 50,
      "outputs": [
        {
          "output_type": "execute_result",
          "data": {
            "text/plain": [
              "array([ 92.15457859,  10.23753043, 108.36245302,  38.14675204])"
            ]
          },
          "metadata": {},
          "execution_count": 50
        }
      ]
    },
    {
      "cell_type": "code",
      "source": [
        "y_test                         # 테스트 세트의 실제 y값"
      ],
      "metadata": {
        "colab": {
          "base_uri": "https://localhost:8080/"
        },
        "id": "vPndZSbZiguO",
        "outputId": "12596967-5a0a-444d-d450-a493d702b90e"
      },
      "execution_count": 51,
      "outputs": [
        {
          "output_type": "execute_result",
          "data": {
            "text/plain": [
              "array([ 90,   8, 100,  38])"
            ]
          },
          "metadata": {},
          "execution_count": 51
        }
      ]
    },
    {
      "cell_type": "code",
      "source": [
        "# (8) 다중 선형 회귀 모델의 기울기와 y절편 검토하기   (y = b + m₁x₁ + m₂x₂ + m₃x₃ + m₄x₄)\n",
        "reg.coef_        # 기울기(m)"
      ],
      "metadata": {
        "colab": {
          "base_uri": "https://localhost:8080/"
        },
        "id": "_ElMGZrjkh-f",
        "outputId": "62a2dd4b-5d54-44fe-b656-492a5dca6296"
      },
      "execution_count": 52,
      "outputs": [
        {
          "output_type": "execute_result",
          "data": {
            "text/plain": [
              "array([-5.82712824, -1.04450647, 10.40419528, -1.64200104])"
            ]
          },
          "metadata": {},
          "execution_count": 52
        }
      ]
    },
    {
      "cell_type": "code",
      "source": [
        "reg.intercept_   # y 절편(b)"
      ],
      "metadata": {
        "colab": {
          "base_uri": "https://localhost:8080/"
        },
        "id": "TqcpU8Qtlc8j",
        "outputId": "ed919e2c-696a-43aa-b554-3298b3341263"
      },
      "execution_count": 53,
      "outputs": [
        {
          "output_type": "execute_result",
          "data": {
            "text/plain": [
              "5.365006706544776"
            ]
          },
          "metadata": {},
          "execution_count": 53
        }
      ]
    },
    {
      "cell_type": "markdown",
      "source": [
        "### **모델평가**"
      ],
      "metadata": {
        "id": "EIBiWuwalmwE"
      }
    },
    {
      "cell_type": "code",
      "source": [
        "# (9) 모델이 잘 만들어졌는지 평가하기\n",
        "reg.score(X_train, y_train) # 훈련 세트를 통한 모델 평가"
      ],
      "metadata": {
        "colab": {
          "base_uri": "https://localhost:8080/"
        },
        "id": "nwv11x4YlsD5",
        "outputId": "95bf9ccf-e761-4599-825a-6c6aa70097f0"
      },
      "execution_count": 54,
      "outputs": [
        {
          "output_type": "execute_result",
          "data": {
            "text/plain": [
              "0.9623352565265527"
            ]
          },
          "metadata": {},
          "execution_count": 54
        }
      ]
    },
    {
      "cell_type": "code",
      "source": [
        "reg.score(X_test, y_test)   # 테스트 세트를 통한 모델 평가"
      ],
      "metadata": {
        "colab": {
          "base_uri": "https://localhost:8080/"
        },
        "id": "-u2guGEMl1GI",
        "outputId": "51a16727-4c60-4a3e-a6c9-4b36bfb76624"
      },
      "execution_count": 55,
      "outputs": [
        {
          "output_type": "execute_result",
          "data": {
            "text/plain": [
              "0.9859956178877446"
            ]
          },
          "metadata": {},
          "execution_count": 55
        }
      ]
    },
    {
      "cell_type": "markdown",
      "source": [
        "### **다양한 평가지표 (회귀 모델)**"
      ],
      "metadata": {
        "id": "ktIqL68JnvBD"
      }
    },
    {
      "cell_type": "markdown",
      "source": [
        "1. MAE (Mean Absolute Error)      : 실제값과 예측값 차이의 절대값\n",
        "2. MSE (Mean Squared Error)       : 실제값과 예측값 차이의 제곱\n",
        "3. RMSE (Root Mean Squared Error) : (실제값과 예측값 차이의 제곱)의 루트\n",
        "4. R2 : 결정계수\n",
        "> R2는 1에 가까울수록, 나머지는 0에 가까울수록 좋음"
      ],
      "metadata": {
        "id": "iL7D9_EUoGbA"
      }
    },
    {
      "cell_type": "code",
      "source": [
        "# (9-1) MAE : 실제값과 예측값 차이의 절대값\n",
        "from sklearn.metrics import mean_absolute_error\n",
        "mean_absolute_error(y_test, y_pred)"
      ],
      "metadata": {
        "colab": {
          "base_uri": "https://localhost:8080/"
        },
        "id": "1EanGyP3n3pD",
        "outputId": "3ebd4c44-39da-4465-c785-976527d2756a"
      },
      "execution_count": 56,
      "outputs": [
        {
          "output_type": "execute_result",
          "data": {
            "text/plain": [
              "3.2253285188288"
            ]
          },
          "metadata": {},
          "execution_count": 56
        }
      ]
    },
    {
      "cell_type": "code",
      "source": [
        "# (9-2) MSE : 실제값과 예측값 차이의 제곱\n",
        "from sklearn.metrics import mean_squared_error\n",
        "mean_squared_error(y_test, y_pred)"
      ],
      "metadata": {
        "colab": {
          "base_uri": "https://localhost:8080/"
        },
        "id": "jmjqc8ylpjem",
        "outputId": "e2ec896f-19e8-4e8b-9e59-adc57eff14a2"
      },
      "execution_count": 57,
      "outputs": [
        {
          "output_type": "execute_result",
          "data": {
            "text/plain": [
              "19.900226981514916"
            ]
          },
          "metadata": {},
          "execution_count": 57
        }
      ]
    },
    {
      "cell_type": "code",
      "source": [
        "# (9-3) RMSE : (실제값과 예측값 차이의 제곱)의 루트\n",
        "from sklearn.metrics import mean_squared_error\n",
        "mean_squared_error(y_test, y_pred, squared=False)"
      ],
      "metadata": {
        "colab": {
          "base_uri": "https://localhost:8080/"
        },
        "id": "b8HxRV-zpjhF",
        "outputId": "3d8f0d18-43eb-4cef-b4bc-00d195846b0d"
      },
      "execution_count": 58,
      "outputs": [
        {
          "output_type": "execute_result",
          "data": {
            "text/plain": [
              "4.460967045553566"
            ]
          },
          "metadata": {},
          "execution_count": 58
        }
      ]
    },
    {
      "cell_type": "code",
      "source": [
        "# (9-4) R2 : 결정계수\n",
        "from sklearn.metrics import r2_score\n",
        "r2_score(y_test, y_pred)"
      ],
      "metadata": {
        "colab": {
          "base_uri": "https://localhost:8080/"
        },
        "id": "-r-j0TNnpjj1",
        "outputId": "a9da26ab-1feb-4db9-fdac-70e523547a9e"
      },
      "execution_count": 59,
      "outputs": [
        {
          "output_type": "execute_result",
          "data": {
            "text/plain": [
              "0.9859956178877446"
            ]
          },
          "metadata": {},
          "execution_count": 59
        }
      ]
    }
  ]
}