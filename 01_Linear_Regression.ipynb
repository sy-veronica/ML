{
  "nbformat": 4,
  "nbformat_minor": 0,
  "metadata": {
    "colab": {
      "provenance": [],
      "mount_file_id": "1w-K4tXwc7foG2IByirJxdkjVsBdk_LnV",
      "authorship_tag": "ABX9TyMXCBbdS2XMqLcdoaf4JMxl",
      "include_colab_link": true
    },
    "kernelspec": {
      "name": "python3",
      "display_name": "Python 3"
    },
    "language_info": {
      "name": "python"
    }
  },
  "cells": [
    {
      "cell_type": "markdown",
      "metadata": {
        "id": "view-in-github",
        "colab_type": "text"
      },
      "source": [
        "<a href=\"https://colab.research.google.com/github/sy-veronica/ML/blob/main/01_Linear_Regression.ipynb\" target=\"_parent\"><img src=\"https://colab.research.google.com/assets/colab-badge.svg\" alt=\"Open In Colab\"/></a>"
      ]
    },
    {
      "cell_type": "markdown",
      "source": [
        "# **1. Linear Regression (선형 회귀)**"
      ],
      "metadata": {
        "id": "rRMUF9xfAnpg"
      }
    },
    {
      "cell_type": "markdown",
      "source": [
        "### **공부시간에 따른 시험점수**"
      ],
      "metadata": {
        "id": "cajV9tCdBfZq"
      }
    },
    {
      "cell_type": "code",
      "execution_count": 117,
      "metadata": {
        "id": "zZPE5m89AaHL"
      },
      "outputs": [],
      "source": [
        "# (1) 라이브러리 불러오기\n",
        "import pandas as pd\n",
        "import matplotlib.pyplot as plt"
      ]
    },
    {
      "cell_type": "code",
      "source": [
        "# (2) 데이터 불러오기\n",
        "dataset = pd.read_csv('/content/drive/MyDrive/03. 파이썬 (ML)/02. dataset/LinearRegressionData.csv')\n",
        "dataset.head()"
      ],
      "metadata": {
        "colab": {
          "base_uri": "https://localhost:8080/",
          "height": 206
        },
        "id": "aiRnK_jzBpcJ",
        "outputId": "49928530-a07d-48c6-d6d1-2f6dec6cd870"
      },
      "execution_count": 118,
      "outputs": [
        {
          "output_type": "execute_result",
          "data": {
            "text/plain": [
              "   hour  score\n",
              "0   0.5     10\n",
              "1   1.2      8\n",
              "2   1.8     14\n",
              "3   2.4     26\n",
              "4   2.6     22"
            ],
            "text/html": [
              "\n",
              "  <div id=\"df-c0716c51-a3ad-4df0-98a1-4eb33f4c79be\">\n",
              "    <div class=\"colab-df-container\">\n",
              "      <div>\n",
              "<style scoped>\n",
              "    .dataframe tbody tr th:only-of-type {\n",
              "        vertical-align: middle;\n",
              "    }\n",
              "\n",
              "    .dataframe tbody tr th {\n",
              "        vertical-align: top;\n",
              "    }\n",
              "\n",
              "    .dataframe thead th {\n",
              "        text-align: right;\n",
              "    }\n",
              "</style>\n",
              "<table border=\"1\" class=\"dataframe\">\n",
              "  <thead>\n",
              "    <tr style=\"text-align: right;\">\n",
              "      <th></th>\n",
              "      <th>hour</th>\n",
              "      <th>score</th>\n",
              "    </tr>\n",
              "  </thead>\n",
              "  <tbody>\n",
              "    <tr>\n",
              "      <th>0</th>\n",
              "      <td>0.5</td>\n",
              "      <td>10</td>\n",
              "    </tr>\n",
              "    <tr>\n",
              "      <th>1</th>\n",
              "      <td>1.2</td>\n",
              "      <td>8</td>\n",
              "    </tr>\n",
              "    <tr>\n",
              "      <th>2</th>\n",
              "      <td>1.8</td>\n",
              "      <td>14</td>\n",
              "    </tr>\n",
              "    <tr>\n",
              "      <th>3</th>\n",
              "      <td>2.4</td>\n",
              "      <td>26</td>\n",
              "    </tr>\n",
              "    <tr>\n",
              "      <th>4</th>\n",
              "      <td>2.6</td>\n",
              "      <td>22</td>\n",
              "    </tr>\n",
              "  </tbody>\n",
              "</table>\n",
              "</div>\n",
              "      <button class=\"colab-df-convert\" onclick=\"convertToInteractive('df-c0716c51-a3ad-4df0-98a1-4eb33f4c79be')\"\n",
              "              title=\"Convert this dataframe to an interactive table.\"\n",
              "              style=\"display:none;\">\n",
              "        \n",
              "  <svg xmlns=\"http://www.w3.org/2000/svg\" height=\"24px\"viewBox=\"0 0 24 24\"\n",
              "       width=\"24px\">\n",
              "    <path d=\"M0 0h24v24H0V0z\" fill=\"none\"/>\n",
              "    <path d=\"M18.56 5.44l.94 2.06.94-2.06 2.06-.94-2.06-.94-.94-2.06-.94 2.06-2.06.94zm-11 1L8.5 8.5l.94-2.06 2.06-.94-2.06-.94L8.5 2.5l-.94 2.06-2.06.94zm10 10l.94 2.06.94-2.06 2.06-.94-2.06-.94-.94-2.06-.94 2.06-2.06.94z\"/><path d=\"M17.41 7.96l-1.37-1.37c-.4-.4-.92-.59-1.43-.59-.52 0-1.04.2-1.43.59L10.3 9.45l-7.72 7.72c-.78.78-.78 2.05 0 2.83L4 21.41c.39.39.9.59 1.41.59.51 0 1.02-.2 1.41-.59l7.78-7.78 2.81-2.81c.8-.78.8-2.07 0-2.86zM5.41 20L4 18.59l7.72-7.72 1.47 1.35L5.41 20z\"/>\n",
              "  </svg>\n",
              "      </button>\n",
              "      \n",
              "  <style>\n",
              "    .colab-df-container {\n",
              "      display:flex;\n",
              "      flex-wrap:wrap;\n",
              "      gap: 12px;\n",
              "    }\n",
              "\n",
              "    .colab-df-convert {\n",
              "      background-color: #E8F0FE;\n",
              "      border: none;\n",
              "      border-radius: 50%;\n",
              "      cursor: pointer;\n",
              "      display: none;\n",
              "      fill: #1967D2;\n",
              "      height: 32px;\n",
              "      padding: 0 0 0 0;\n",
              "      width: 32px;\n",
              "    }\n",
              "\n",
              "    .colab-df-convert:hover {\n",
              "      background-color: #E2EBFA;\n",
              "      box-shadow: 0px 1px 2px rgba(60, 64, 67, 0.3), 0px 1px 3px 1px rgba(60, 64, 67, 0.15);\n",
              "      fill: #174EA6;\n",
              "    }\n",
              "\n",
              "    [theme=dark] .colab-df-convert {\n",
              "      background-color: #3B4455;\n",
              "      fill: #D2E3FC;\n",
              "    }\n",
              "\n",
              "    [theme=dark] .colab-df-convert:hover {\n",
              "      background-color: #434B5C;\n",
              "      box-shadow: 0px 1px 3px 1px rgba(0, 0, 0, 0.15);\n",
              "      filter: drop-shadow(0px 1px 2px rgba(0, 0, 0, 0.3));\n",
              "      fill: #FFFFFF;\n",
              "    }\n",
              "  </style>\n",
              "\n",
              "      <script>\n",
              "        const buttonEl =\n",
              "          document.querySelector('#df-c0716c51-a3ad-4df0-98a1-4eb33f4c79be button.colab-df-convert');\n",
              "        buttonEl.style.display =\n",
              "          google.colab.kernel.accessAllowed ? 'block' : 'none';\n",
              "\n",
              "        async function convertToInteractive(key) {\n",
              "          const element = document.querySelector('#df-c0716c51-a3ad-4df0-98a1-4eb33f4c79be');\n",
              "          const dataTable =\n",
              "            await google.colab.kernel.invokeFunction('convertToInteractive',\n",
              "                                                     [key], {});\n",
              "          if (!dataTable) return;\n",
              "\n",
              "          const docLinkHtml = 'Like what you see? Visit the ' +\n",
              "            '<a target=\"_blank\" href=https://colab.research.google.com/notebooks/data_table.ipynb>data table notebook</a>'\n",
              "            + ' to learn more about interactive tables.';\n",
              "          element.innerHTML = '';\n",
              "          dataTable['output_type'] = 'display_data';\n",
              "          await google.colab.output.renderOutput(dataTable, element);\n",
              "          const docLink = document.createElement('div');\n",
              "          docLink.innerHTML = docLinkHtml;\n",
              "          element.appendChild(docLink);\n",
              "        }\n",
              "      </script>\n",
              "    </div>\n",
              "  </div>\n",
              "  "
            ]
          },
          "metadata": {},
          "execution_count": 118
        }
      ]
    },
    {
      "cell_type": "code",
      "source": [
        "# (3) 독립변수, 원인(X) & 종속변수, 결과(y) 지정하기\n",
        "X = dataset.iloc[:, :-1].values # 처음부터 마지막 컬럼 직전까지의 데이터\n",
        "y = dataset.iloc[:, -1].values  # 마지막 컬럼 데이터\n",
        "X, y"
      ],
      "metadata": {
        "colab": {
          "base_uri": "https://localhost:8080/"
        },
        "id": "yvqlYV5WBpev",
        "outputId": "bf3fb393-d46d-4289-d469-35b25209bd7a"
      },
      "execution_count": 119,
      "outputs": [
        {
          "output_type": "execute_result",
          "data": {
            "text/plain": [
              "(array([[ 0.5],\n",
              "        [ 1.2],\n",
              "        [ 1.8],\n",
              "        [ 2.4],\n",
              "        [ 2.6],\n",
              "        [ 3.2],\n",
              "        [ 3.9],\n",
              "        [ 4.4],\n",
              "        [ 4.5],\n",
              "        [ 5. ],\n",
              "        [ 5.3],\n",
              "        [ 5.8],\n",
              "        [ 6. ],\n",
              "        [ 6.1],\n",
              "        [ 6.2],\n",
              "        [ 6.9],\n",
              "        [ 7.2],\n",
              "        [ 8.4],\n",
              "        [ 8.6],\n",
              "        [10. ]]),\n",
              " array([ 10,   8,  14,  26,  22,  30,  42,  48,  38,  58,  60,  72,  62,\n",
              "         68,  72,  58,  76,  86,  90, 100]))"
            ]
          },
          "metadata": {},
          "execution_count": 119
        }
      ]
    },
    {
      "cell_type": "code",
      "source": [
        "# (4) 선형 회귀 모델 만들기\n",
        "from sklearn.linear_model import LinearRegression\n",
        "reg = LinearRegression()  # 객체 생성\n",
        "reg.fit(X, y)             # 모델 생성 (학습)"
      ],
      "metadata": {
        "colab": {
          "base_uri": "https://localhost:8080/"
        },
        "id": "V2UD3IShBphH",
        "outputId": "bf863b5f-7deb-4fd2-8be1-a2ea5bb06021"
      },
      "execution_count": 120,
      "outputs": [
        {
          "output_type": "execute_result",
          "data": {
            "text/plain": [
              "LinearRegression()"
            ]
          },
          "metadata": {},
          "execution_count": 120
        }
      ]
    },
    {
      "cell_type": "code",
      "source": [
        "# (5) 학습을 통해 생성된 모델을 바탕으로 예측값(y_pred) 출력\n",
        "y_pred = reg.predict(X)   # X에 대한 예측값"
      ],
      "metadata": {
        "id": "gdvHVueTD-VX"
      },
      "execution_count": 121,
      "outputs": []
    },
    {
      "cell_type": "code",
      "source": [
        "# (6) 시각화\n",
        "plt.scatter(X, y, color='blue')     # 산포도    (주어진 데이터셋의 산포도)\n",
        "plt.plot(X, y_pred, color='green')  # 선 그래프 (선형회귀 모델의 선 그래프)\n",
        "plt.title('Score by hours')         # 그래프의 제목\n",
        "plt.xlabel('hours')                 # X축 이름\n",
        "plt.ylabel('score')                 # y축 이름\n",
        "plt.show()"
      ],
      "metadata": {
        "colab": {
          "base_uri": "https://localhost:8080/",
          "height": 295
        },
        "id": "TahRK3arD-YM",
        "outputId": "a10b06d8-4b4e-4d47-e651-eb6473d7f67b"
      },
      "execution_count": 122,
      "outputs": [
        {
          "output_type": "display_data",
          "data": {
            "text/plain": [
              "<Figure size 432x288 with 1 Axes>"
            ],
            "image/png": "[encoded data removed]"
          },
          "metadata": {
            "needs_background": "light"
          }
        }
      ]
    },
    {
      "cell_type": "code",
      "source": [
        "# (7) 학습을 통해 생성된 모델에 특정 독립변수를 대입했을 때의 예측값(y_pred)\n",
        "print('9시간 공부했을 때 예상점수 :', reg.predict([[9]]))  # 주의 : [[2차원 배열]] 형태로 기입할 것, [[9],[8],[7]]"
      ],
      "metadata": {
        "colab": {
          "base_uri": "https://localhost:8080/"
        },
        "id": "CcK1oXp5D-cB",
        "outputId": "d8dd2d65-5c66-441b-d5fb-dc468ec098d6"
      },
      "execution_count": 123,
      "outputs": [
        {
          "output_type": "stream",
          "name": "stdout",
          "text": [
            "9시간 공부했을 때 예상점수 : [93.77478776]\n"
          ]
        }
      ]
    },
    {
      "cell_type": "code",
      "source": [
        "# (8) 생성된 모델로 도출된 예측값 검토하기   (y=mx+b)\n",
        "reg.coef_        # 기울기(m)"
      ],
      "metadata": {
        "colab": {
          "base_uri": "https://localhost:8080/"
        },
        "id": "CuokMOSnBpjp",
        "outputId": "46973d04-7570-4fbe-e9d5-bcab11c0640f"
      },
      "execution_count": 124,
      "outputs": [
        {
          "output_type": "execute_result",
          "data": {
            "text/plain": [
              "array([10.44369694])"
            ]
          },
          "metadata": {},
          "execution_count": 124
        }
      ]
    },
    {
      "cell_type": "code",
      "source": [
        "reg.intercept_   # y 절편(b)"
      ],
      "metadata": {
        "colab": {
          "base_uri": "https://localhost:8080/"
        },
        "id": "vNBqYCfsBpmF",
        "outputId": "09e40ee5-4d5e-4059-f2c3-4a133ccb7b74"
      },
      "execution_count": 125,
      "outputs": [
        {
          "output_type": "execute_result",
          "data": {
            "text/plain": [
              "-0.218484702867201"
            ]
          },
          "metadata": {},
          "execution_count": 125
        }
      ]
    },
    {
      "cell_type": "markdown",
      "source": [
        "### **데이터 세트 분리**"
      ],
      "metadata": {
        "id": "6yDJkSF5LvM3"
      }
    },
    {
      "cell_type": "code",
      "source": [
        "# (1) 라이브러리 불러오기\n",
        "import pandas as pd\n",
        "import matplotlib.pyplot as plt"
      ],
      "metadata": {
        "id": "SafoapZSBpot"
      },
      "execution_count": 126,
      "outputs": []
    },
    {
      "cell_type": "code",
      "source": [
        "# (2) 데이터 불러오기\n",
        "dataset = pd.read_csv('/content/drive/MyDrive/03. 파이썬 (ML)/02. dataset/LinearRegressionData.csv')\n",
        "dataset.head()"
      ],
      "metadata": {
        "colab": {
          "base_uri": "https://localhost:8080/",
          "height": 206
        },
        "id": "CouQE2AwL1K9",
        "outputId": "3bbfd074-fe69-4a12-8832-ebc50f21c20d"
      },
      "execution_count": 127,
      "outputs": [
        {
          "output_type": "execute_result",
          "data": {
            "text/plain": [
              "   hour  score\n",
              "0   0.5     10\n",
              "1   1.2      8\n",
              "2   1.8     14\n",
              "3   2.4     26\n",
              "4   2.6     22"
            ],
            "text/html": [
              "\n",
              "  <div id=\"df-6fad8ec8-6190-49d9-af6a-c678175f0ce6\">\n",
              "    <div class=\"colab-df-container\">\n",
              "      <div>\n",
              "<style scoped>\n",
              "    .dataframe tbody tr th:only-of-type {\n",
              "        vertical-align: middle;\n",
              "    }\n",
              "\n",
              "    .dataframe tbody tr th {\n",
              "        vertical-align: top;\n",
              "    }\n",
              "\n",
              "    .dataframe thead th {\n",
              "        text-align: right;\n",
              "    }\n",
              "</style>\n",
              "<table border=\"1\" class=\"dataframe\">\n",
              "  <thead>\n",
              "    <tr style=\"text-align: right;\">\n",
              "      <th></th>\n",
              "      <th>hour</th>\n",
              "      <th>score</th>\n",
              "    </tr>\n",
              "  </thead>\n",
              "  <tbody>\n",
              "    <tr>\n",
              "      <th>0</th>\n",
              "      <td>0.5</td>\n",
              "      <td>10</td>\n",
              "    </tr>\n",
              "    <tr>\n",
              "      <th>1</th>\n",
              "      <td>1.2</td>\n",
              "      <td>8</td>\n",
              "    </tr>\n",
              "    <tr>\n",
              "      <th>2</th>\n",
              "      <td>1.8</td>\n",
              "      <td>14</td>\n",
              "    </tr>\n",
              "    <tr>\n",
              "      <th>3</th>\n",
              "      <td>2.4</td>\n",
              "      <td>26</td>\n",
              "    </tr>\n",
              "    <tr>\n",
              "      <th>4</th>\n",
              "      <td>2.6</td>\n",
              "      <td>22</td>\n",
              "    </tr>\n",
              "  </tbody>\n",
              "</table>\n",
              "</div>\n",
              "      <button class=\"colab-df-convert\" onclick=\"convertToInteractive('df-6fad8ec8-6190-49d9-af6a-c678175f0ce6')\"\n",
              "              title=\"Convert this dataframe to an interactive table.\"\n",
              "              style=\"display:none;\">\n",
              "        \n",
              "  <svg xmlns=\"http://www.w3.org/2000/svg\" height=\"24px\"viewBox=\"0 0 24 24\"\n",
              "       width=\"24px\">\n",
              "    <path d=\"M0 0h24v24H0V0z\" fill=\"none\"/>\n",
              "    <path d=\"M18.56 5.44l.94 2.06.94-2.06 2.06-.94-2.06-.94-.94-2.06-.94 2.06-2.06.94zm-11 1L8.5 8.5l.94-2.06 2.06-.94-2.06-.94L8.5 2.5l-.94 2.06-2.06.94zm10 10l.94 2.06.94-2.06 2.06-.94-2.06-.94-.94-2.06-.94 2.06-2.06.94z\"/><path d=\"M17.41 7.96l-1.37-1.37c-.4-.4-.92-.59-1.43-.59-.52 0-1.04.2-1.43.59L10.3 9.45l-7.72 7.72c-.78.78-.78 2.05 0 2.83L4 21.41c.39.39.9.59 1.41.59.51 0 1.02-.2 1.41-.59l7.78-7.78 2.81-2.81c.8-.78.8-2.07 0-2.86zM5.41 20L4 18.59l7.72-7.72 1.47 1.35L5.41 20z\"/>\n",
              "  </svg>\n",
              "      </button>\n",
              "      \n",
              "  <style>\n",
              "    .colab-df-container {\n",
              "      display:flex;\n",
              "      flex-wrap:wrap;\n",
              "      gap: 12px;\n",
              "    }\n",
              "\n",
              "    .colab-df-convert {\n",
              "      background-color: #E8F0FE;\n",
              "      border: none;\n",
              "      border-radius: 50%;\n",
              "      cursor: pointer;\n",
              "      display: none;\n",
              "      fill: #1967D2;\n",
              "      height: 32px;\n",
              "      padding: 0 0 0 0;\n",
              "      width: 32px;\n",
              "    }\n",
              "\n",
              "    .colab-df-convert:hover {\n",
              "      background-color: #E2EBFA;\n",
              "      box-shadow: 0px 1px 2px rgba(60, 64, 67, 0.3), 0px 1px 3px 1px rgba(60, 64, 67, 0.15);\n",
              "      fill: #174EA6;\n",
              "    }\n",
              "\n",
              "    [theme=dark] .colab-df-convert {\n",
              "      background-color: #3B4455;\n",
              "      fill: #D2E3FC;\n",
              "    }\n",
              "\n",
              "    [theme=dark] .colab-df-convert:hover {\n",
              "      background-color: #434B5C;\n",
              "      box-shadow: 0px 1px 3px 1px rgba(0, 0, 0, 0.15);\n",
              "      filter: drop-shadow(0px 1px 2px rgba(0, 0, 0, 0.3));\n",
              "      fill: #FFFFFF;\n",
              "    }\n",
              "  </style>\n",
              "\n",
              "      <script>\n",
              "        const buttonEl =\n",
              "          document.querySelector('#df-6fad8ec8-6190-49d9-af6a-c678175f0ce6 button.colab-df-convert');\n",
              "        buttonEl.style.display =\n",
              "          google.colab.kernel.accessAllowed ? 'block' : 'none';\n",
              "\n",
              "        async function convertToInteractive(key) {\n",
              "          const element = document.querySelector('#df-6fad8ec8-6190-49d9-af6a-c678175f0ce6');\n",
              "          const dataTable =\n",
              "            await google.colab.kernel.invokeFunction('convertToInteractive',\n",
              "                                                     [key], {});\n",
              "          if (!dataTable) return;\n",
              "\n",
              "          const docLinkHtml = 'Like what you see? Visit the ' +\n",
              "            '<a target=\"_blank\" href=https://colab.research.google.com/notebooks/data_table.ipynb>data table notebook</a>'\n",
              "            + ' to learn more about interactive tables.';\n",
              "          element.innerHTML = '';\n",
              "          dataTable['output_type'] = 'display_data';\n",
              "          await google.colab.output.renderOutput(dataTable, element);\n",
              "          const docLink = document.createElement('div');\n",
              "          docLink.innerHTML = docLinkHtml;\n",
              "          element.appendChild(docLink);\n",
              "        }\n",
              "      </script>\n",
              "    </div>\n",
              "  </div>\n",
              "  "
            ]
          },
          "metadata": {},
          "execution_count": 127
        }
      ]
    },
    {
      "cell_type": "code",
      "source": [
        "# (3-1) 독립변수, 원인(X) & 종속변수, 결과(y) 지정하기\n",
        "X = dataset.iloc[:, :-1].values # 처음부터 마지막 컬럼 직전까지의 데이터\n",
        "y = dataset.iloc[:, -1].values  # 마지막 컬럼 데이터\n",
        "X, y"
      ],
      "metadata": {
        "colab": {
          "base_uri": "https://localhost:8080/"
        },
        "id": "N6V_27OCL1Nd",
        "outputId": "b7a61174-b9e7-4d6e-a2eb-3ca9dd7e5a76"
      },
      "execution_count": 128,
      "outputs": [
        {
          "output_type": "execute_result",
          "data": {
            "text/plain": [
              "(array([[ 0.5],\n",
              "        [ 1.2],\n",
              "        [ 1.8],\n",
              "        [ 2.4],\n",
              "        [ 2.6],\n",
              "        [ 3.2],\n",
              "        [ 3.9],\n",
              "        [ 4.4],\n",
              "        [ 4.5],\n",
              "        [ 5. ],\n",
              "        [ 5.3],\n",
              "        [ 5.8],\n",
              "        [ 6. ],\n",
              "        [ 6.1],\n",
              "        [ 6.2],\n",
              "        [ 6.9],\n",
              "        [ 7.2],\n",
              "        [ 8.4],\n",
              "        [ 8.6],\n",
              "        [10. ]]),\n",
              " array([ 10,   8,  14,  26,  22,  30,  42,  48,  38,  58,  60,  72,  62,\n",
              "         68,  72,  58,  76,  86,  90, 100]))"
            ]
          },
          "metadata": {},
          "execution_count": 128
        }
      ]
    },
    {
      "cell_type": "code",
      "source": [
        "# (3-2) 데이터 세트 분리하기\n",
        "from sklearn.model_selection import train_test_split\n",
        "X_train, X_test, y_train, y_test = train_test_split(X, y, test_size=0.2, random_state=0)  # 훈련(80) : 테스트(20)으로 분리"
      ],
      "metadata": {
        "id": "frcT5Lm3L1P-"
      },
      "execution_count": 129,
      "outputs": []
    },
    {
      "cell_type": "code",
      "source": [
        "# 분리된 데이터 세트 검토하기\n",
        "X, len(X)             # X 전체 데이터, 개수\n",
        "X_train, len(X_train) # X 훈련 세트, 개수\n",
        "X_test, len(X_test)   # X 테스트 세트, 개수\n",
        "y, len(y)             # y 전체 데이터, 개수\n",
        "y_train, len(y_train) # y 훈련 세트, 개수\n",
        "y_test, len(y_test)   # y 테스트 세트트, 개수"
      ],
      "metadata": {
        "colab": {
          "base_uri": "https://localhost:8080/"
        },
        "id": "Q__CbjJlL1SQ",
        "outputId": "8bdf35f7-6517-49a8-d05c-a79ac2fc80b1"
      },
      "execution_count": 130,
      "outputs": [
        {
          "output_type": "execute_result",
          "data": {
            "text/plain": [
              "(array([ 90,   8, 100,  38]), 4)"
            ]
          },
          "metadata": {},
          "execution_count": 130
        }
      ]
    },
    {
      "cell_type": "markdown",
      "source": [
        "### **분리된 데이터 세트를 통한 모델링**"
      ],
      "metadata": {
        "id": "WT5PshKeOcPE"
      }
    },
    {
      "cell_type": "code",
      "source": [
        "# (4) 훈련 세트를 이용하여 선형 회귀 모델 만들기\n",
        "from sklearn.linear_model import LinearRegression\n",
        "reg = LinearRegression()  # 객체 생성\n",
        "reg.fit(X_train, y_train) # 모델 생성 (훈련 세트로 학습)"
      ],
      "metadata": {
        "colab": {
          "base_uri": "https://localhost:8080/"
        },
        "id": "z9dnSwMEOHin",
        "outputId": "a124393d-7498-44f0-c10c-911c344008f2"
      },
      "execution_count": 131,
      "outputs": [
        {
          "output_type": "execute_result",
          "data": {
            "text/plain": [
              "LinearRegression()"
            ]
          },
          "metadata": {},
          "execution_count": 131
        }
      ]
    },
    {
      "cell_type": "code",
      "source": [
        "# (5) 학습을 통해 생성된 모델을 바탕으로 예측값(y_pred) 출력\n",
        "# y_pred = reg.predict(X)   # X에 대한 예측값"
      ],
      "metadata": {
        "id": "JYmrc_mfOHnU"
      },
      "execution_count": 132,
      "outputs": []
    },
    {
      "cell_type": "code",
      "source": [
        "# (6-1) 시각화 (훈련 세트)\n",
        "plt.scatter(X_train, y_train, color='blue')             # 산포도    (주어진 훈련 데이터셋의 산포도)\n",
        "plt.plot(X_train, reg.predict(X_train), color='green')  # 선 그래프 (훈련 세트로 학습된 선형회귀 모델의 선 그래프)\n",
        "plt.title('Score by hours (train data)')  # 그래프의 제목\n",
        "plt.xlabel('hours')                       # X축 이름\n",
        "plt.ylabel('score')                       # y축 이름\n",
        "plt.show()"
      ],
      "metadata": {
        "colab": {
          "base_uri": "https://localhost:8080/",
          "height": 295
        },
        "id": "JL8T9Y0wPFgx",
        "outputId": "f9edd9c5-1fb0-450e-c4a1-e7faf67c0aa4"
      },
      "execution_count": 133,
      "outputs": [
        {
          "output_type": "display_data",
          "data": {
            "text/plain": [
              "<Figure size 432x288 with 1 Axes>"
            ],
            "image/png": "[encoded data removed]"
          },
          "metadata": {
            "needs_background": "light"
          }
        }
      ]
    },
    {
      "cell_type": "code",
      "source": [
        "# (6-2) 시각화 (테스트 세트)\n",
        "plt.scatter(X_test, y_test, color='blue')               # 산포도    (주어진 테스트 데이터셋의 산포도)\n",
        "plt.plot(X_train, reg.predict(X_train), color='green')  # 선 그래프 (훈련 세트로 학습된 선형회귀 모델의 선 그래프)\n",
        "plt.title('Score by hours (test data)')  # 그래프의 제목\n",
        "plt.xlabel('hours')                      # X축 이름\n",
        "plt.ylabel('score')                      # y축 이름\n",
        "plt.show()"
      ],
      "metadata": {
        "colab": {
          "base_uri": "https://localhost:8080/",
          "height": 295
        },
        "id": "CDpalIu4QL_T",
        "outputId": "ae7c9a87-2f28-435f-eef7-8d732e7f0c80"
      },
      "execution_count": 134,
      "outputs": [
        {
          "output_type": "display_data",
          "data": {
            "text/plain": [
              "<Figure size 432x288 with 1 Axes>"
            ],
            "image/png": "[encoded data removed]"
          },
          "metadata": {
            "needs_background": "light"
          }
        }
      ]
    },
    {
      "cell_type": "code",
      "source": [
        "# (8) 훈련 세트로 학습된 선형 회귀 모델의 기울기와 y절편 검토하기   (y=mx+b)\n",
        "#     전체 데이터로 학습시킨 경우의 기울기, y절편의 값과 달라졌음을 확인할 수 있음음\n",
        "reg.coef_        # 기울기(m)"
      ],
      "metadata": {
        "colab": {
          "base_uri": "https://localhost:8080/"
        },
        "id": "yWtZW4-8RsWU",
        "outputId": "1fce7ccf-a366-44fa-d0d2-7ade287c3a97"
      },
      "execution_count": 135,
      "outputs": [
        {
          "output_type": "execute_result",
          "data": {
            "text/plain": [
              "array([10.49161294])"
            ]
          },
          "metadata": {},
          "execution_count": 135
        }
      ]
    },
    {
      "cell_type": "code",
      "source": [
        "reg.intercept_   # y 절편(b)"
      ],
      "metadata": {
        "colab": {
          "base_uri": "https://localhost:8080/"
        },
        "id": "9YW1fz2wSCJU",
        "outputId": "16ba75e4-19bc-48c6-c555-9ac92a2b141d"
      },
      "execution_count": 136,
      "outputs": [
        {
          "output_type": "execute_result",
          "data": {
            "text/plain": [
              "0.6115562905169369"
            ]
          },
          "metadata": {},
          "execution_count": 136
        }
      ]
    },
    {
      "cell_type": "markdown",
      "source": [
        "### **모델 평가**\n",
        "\n",
        "\n"
      ],
      "metadata": {
        "id": "j_jd4kJcSSWL"
      }
    },
    {
      "cell_type": "code",
      "source": [
        "# (9) 모델이 잘 만들어졌는지 평가하기\n",
        "reg.score(X_train, y_train) # 훈련 세트를 통한 모델 평가"
      ],
      "metadata": {
        "colab": {
          "base_uri": "https://localhost:8080/"
        },
        "id": "n6s6xlJ6SUHt",
        "outputId": "c46b4e44-0e7c-45c3-8e87-00aba2334300"
      },
      "execution_count": 137,
      "outputs": [
        {
          "output_type": "execute_result",
          "data": {
            "text/plain": [
              "0.9356663661221668"
            ]
          },
          "metadata": {},
          "execution_count": 137
        }
      ]
    },
    {
      "cell_type": "code",
      "source": [
        "reg.score(X_test, y_test)   # 테스트 세트를 통한 모델 평가"
      ],
      "metadata": {
        "colab": {
          "base_uri": "https://localhost:8080/"
        },
        "id": "fuwK8pNHSn5z",
        "outputId": "062dea87-9507-408e-980d-397c54955aef"
      },
      "execution_count": 138,
      "outputs": [
        {
          "output_type": "execute_result",
          "data": {
            "text/plain": [
              "0.9727616474310156"
            ]
          },
          "metadata": {},
          "execution_count": 138
        }
      ]
    },
    {
      "cell_type": "markdown",
      "source": [
        "# **경사 하강법 (Gradient Descent)**"
      ],
      "metadata": {
        "id": "x_RKMnHFT00O"
      }
    },
    {
      "cell_type": "code",
      "source": [
        "# (4-2) 확률적 경사 하강법을 이용하여 선형 회귀 모델 만들기\n",
        "from sklearn.linear_model import SGDRegressor     # SGD(Stochastic Gradient Descent) 확률적 경사 하강법\n",
        "sr = SGDRegressor()       # 객체 생성\n",
        "# sr = SGDRegressor(max_iter=1000, eta0=0.001, random_state=0, verbose=1)\n",
        "sr.fit(X_train, y_train)  # 모델 생성 (훈련 세트로 학습)"
      ],
      "metadata": {
        "colab": {
          "base_uri": "https://localhost:8080/"
        },
        "id": "jGjRKml1T1Im",
        "outputId": "de63bf11-d76c-4376-b433-c70e9310dead"
      },
      "execution_count": 139,
      "outputs": [
        {
          "output_type": "execute_result",
          "data": {
            "text/plain": [
              "SGDRegressor()"
            ]
          },
          "metadata": {},
          "execution_count": 139
        }
      ]
    },
    {
      "cell_type": "markdown",
      "source": [
        "```\n",
        "- max_iter : 훈련 세트 반복 횟수 (Epoch 횟수)\n",
        "- eta0     : 학습률 (Learning rate)\n",
        "```"
      ],
      "metadata": {
        "id": "51UPNFZSYqKe"
      }
    },
    {
      "cell_type": "code",
      "source": [
        "# (6-1) 시각화 (훈련 세트)\n",
        "plt.scatter(X_train, y_train, color='blue')             # 산포도    (주어진 훈련 데이터셋의 산포도)\n",
        "plt.plot(X_train, sr.predict(X_train), color='green')   # 선 그래프 (훈련 세트로 학습된 선형회귀 모델의 선 그래프)\n",
        "plt.title('Score by hours (train data, SGD)')         # 그래프의 제목\n",
        "plt.xlabel('hours')                 # X축 이름\n",
        "plt.ylabel('score')                 # y축 이름\n",
        "plt.show()"
      ],
      "metadata": {
        "colab": {
          "base_uri": "https://localhost:8080/",
          "height": 295
        },
        "id": "8PG0aAHZT1MH",
        "outputId": "c227b99c-ac22-40b7-902a-ed84156ff349"
      },
      "execution_count": 140,
      "outputs": [
        {
          "output_type": "display_data",
          "data": {
            "text/plain": [
              "<Figure size 432x288 with 1 Axes>"
            ],
            "image/png": "[encoded data removed]"
          },
          "metadata": {
            "needs_background": "light"
          }
        }
      ]
    },
    {
      "cell_type": "code",
      "source": [
        "# (8) 훈련 세트로 학습된 SGD 선형 회귀 모델의 기울기와 y절편 검토하기   (y=mx+b)\n",
        "#     훈련 세트로 학습된 선형 회귀 모델의 기울기, y절편의 값과 달라졌음을 확인할 수 있음음\n",
        "sr.coef_        # 기울기(m)"
      ],
      "metadata": {
        "colab": {
          "base_uri": "https://localhost:8080/"
        },
        "id": "33HCg_MET1P5",
        "outputId": "b7eb2d90-f04d-4f64-df42-64e3109cbb93"
      },
      "execution_count": 141,
      "outputs": [
        {
          "output_type": "execute_result",
          "data": {
            "text/plain": [
              "array([10.30412734])"
            ]
          },
          "metadata": {},
          "execution_count": 141
        }
      ]
    },
    {
      "cell_type": "code",
      "source": [
        "sr.intercept_   # y 절편(b)"
      ],
      "metadata": {
        "colab": {
          "base_uri": "https://localhost:8080/"
        },
        "id": "lwST5Mb4T1TI",
        "outputId": "ad4f7efc-f7d3-4ca4-a692-b57975ace9b6"
      },
      "execution_count": 142,
      "outputs": [
        {
          "output_type": "execute_result",
          "data": {
            "text/plain": [
              "array([1.52020789])"
            ]
          },
          "metadata": {},
          "execution_count": 142
        }
      ]
    },
    {
      "cell_type": "code",
      "source": [
        "# (9) 모델이 잘 만들어졌는지 평가하기\n",
        "sr.score(X_train, y_train) # 훈련 세트를 통한 모델 평가"
      ],
      "metadata": {
        "colab": {
          "base_uri": "https://localhost:8080/"
        },
        "id": "goI3-kfqT1Ve",
        "outputId": "e046030d-bc15-4241-a0c3-36f7c57ceb6b"
      },
      "execution_count": 143,
      "outputs": [
        {
          "output_type": "execute_result",
          "data": {
            "text/plain": [
              "0.9353666779145963"
            ]
          },
          "metadata": {},
          "execution_count": 143
        }
      ]
    },
    {
      "cell_type": "code",
      "source": [
        "sr.score(X_test, y_test)   # 테스트 세트를 통한 모델 평가"
      ],
      "metadata": {
        "colab": {
          "base_uri": "https://localhost:8080/"
        },
        "id": "oDnvdg4AW25j",
        "outputId": "dbf3fab0-2cac-4d99-baeb-277029ec18e8"
      },
      "execution_count": 144,
      "outputs": [
        {
          "output_type": "execute_result",
          "data": {
            "text/plain": [
              "0.9730385940589729"
            ]
          },
          "metadata": {},
          "execution_count": 144
        }
      ]
    }
  ]
}