{
  "nbformat": 4,
  "nbformat_minor": 0,
  "metadata": {
    "colab": {
      "provenance": [],
      "mount_file_id": "1z53ptLh2U9daUsKsWeqGvpQosKGDxtDm",
      "authorship_tag": "ABX9TyMgaxXsYhJAALkhY8auPEUC",
      "include_colab_link": true
    },
    "kernelspec": {
      "name": "python3",
      "display_name": "Python 3"
    },
    "language_info": {
      "name": "python"
    }
  },
  "cells": [
    {
      "cell_type": "markdown",
      "metadata": {
        "id": "view-in-github",
        "colab_type": "text"
      },
      "source": [
        "<a href=\"https://colab.research.google.com/github/sy-veronica/ML/blob/main/04_Logistic_Regression.ipynb\" target=\"_parent\"><img src=\"https://colab.research.google.com/assets/colab-badge.svg\" alt=\"Open In Colab\"/></a>"
      ]
    },
    {
      "cell_type": "markdown",
      "source": [
        "# **4. Logistic Regression (로지스틱회귀)**"
      ],
      "metadata": {
        "id": "HiAUyq2mWjTz"
      }
    },
    {
      "cell_type": "markdown",
      "source": [
        "### 공부시간에 따른 자격증 시험 합격 가능성"
      ],
      "metadata": {
        "id": "b_5J_Wz4WkhK"
      }
    },
    {
      "cell_type": "code",
      "execution_count": 6,
      "metadata": {
        "id": "LtenzU6rWdNS"
      },
      "outputs": [],
      "source": [
        "# (1) 라이브러리 불러오기\n",
        "import numpy as np\n",
        "import pandas as pd\n",
        "import matplotlib.pyplot as plt"
      ]
    },
    {
      "cell_type": "code",
      "source": [
        "# (2) 데이터셋 불러오기\n",
        "dataset = pd.read_csv('/content/drive/MyDrive/03. 파이썬 (ML)/02. dataset/LogisticRegressionData.csv')"
      ],
      "metadata": {
        "id": "YI5eXeDJW-2k"
      },
      "execution_count": 7,
      "outputs": []
    },
    {
      "cell_type": "code",
      "source": [
        "# (3) X (독립변수, 원인), y (종속변수, 결과) 지정하기\n",
        "X = dataset.iloc[:,:-1].values  # 처음부터 마지막 컬럼 직전까지의 데이터\n",
        "y = dataset.iloc[:,-1].values   # 마지막 컬럼 데이터"
      ],
      "metadata": {
        "id": "3eyn9P_dXsBC"
      },
      "execution_count": 8,
      "outputs": []
    },
    {
      "cell_type": "code",
      "source": [
        "# (4) 데이터셋 분리하기\n",
        "from sklearn.model_selection import train_test_split\n",
        "X_train, X_test, y_train, y_test = train_test_split(X, y, test_size=0.2, random_state=0)"
      ],
      "metadata": {
        "id": "oyEtaZMDXr9P"
      },
      "execution_count": 12,
      "outputs": []
    },
    {
      "cell_type": "code",
      "source": [
        "# (5) 로지스틱회귀 모델 만들기\n",
        "from sklearn.linear_model import LogisticRegression\n",
        "classifier = LogisticRegression()   # 로지스틱회귀 모델 객체 생성\n",
        "classifier.fit(X_train, y_train)    # 로지스틱회귀 모델 학습 (훈련련데이터 사용)"
      ],
      "metadata": {
        "colab": {
          "base_uri": "https://localhost:8080/"
        },
        "id": "4CLxp4X7W_T4",
        "outputId": "2e5a2599-a9ef-4efd-d7cf-65d92523f1bc"
      },
      "execution_count": 13,
      "outputs": [
        {
          "output_type": "execute_result",
          "data": {
            "text/plain": [
              "LogisticRegression()"
            ]
          },
          "metadata": {},
          "execution_count": 13
        }
      ]
    },
    {
      "cell_type": "code",
      "source": [
        "# (6-1) 생성한 로지스틱회귀 모델을 이용한 결과 예측\n",
        "# 6시간 공부했을 떄 합격/불합격 결과 예측\n",
        "classifier.predict([[6]])  # 결과1 : 합격할 것으로 예측"
      ],
      "metadata": {
        "colab": {
          "base_uri": "https://localhost:8080/"
        },
        "id": "F8TS-W6lW_az",
        "outputId": "36a51322-ca3d-4959-dc9a-41fb32051252"
      },
      "execution_count": 22,
      "outputs": [
        {
          "output_type": "execute_result",
          "data": {
            "text/plain": [
              "array([1])"
            ]
          },
          "metadata": {},
          "execution_count": 22
        }
      ]
    },
    {
      "cell_type": "code",
      "source": [
        "# (6-1) 생성한 로지스틱회귀 모델을 이용한 결과 예측\n",
        "# 6시간 공부했을 떄 합격/불합격 확률 예측\n",
        "classifier.predict_proba([[6]])  # 불합격 확률(14%), 합격 확률(86%) 예측"
      ],
      "metadata": {
        "colab": {
          "base_uri": "https://localhost:8080/"
        },
        "id": "T9rwzAB6ahzH",
        "outputId": "5899e1af-be64-431c-d990-1d67a726ee4a"
      },
      "execution_count": 23,
      "outputs": [
        {
          "output_type": "execute_result",
          "data": {
            "text/plain": [
              "array([[0.14150735, 0.85849265]])"
            ]
          },
          "metadata": {},
          "execution_count": 23
        }
      ]
    },
    {
      "cell_type": "code",
      "source": [
        "# (6-2) 생성한 로지스틱회귀 모델을 이용한 결과 예측\n",
        "# 4시간 공부했을 떄 합격/불합격 결과 예측\n",
        "classifier.predict([[4]])  # 결과2 : 불합격할 것으로 예측"
      ],
      "metadata": {
        "colab": {
          "base_uri": "https://localhost:8080/"
        },
        "id": "IrWUeG27W_g5",
        "outputId": "21061b8b-59cc-4f88-d01c-830aad181e9e"
      },
      "execution_count": 24,
      "outputs": [
        {
          "output_type": "execute_result",
          "data": {
            "text/plain": [
              "array([0])"
            ]
          },
          "metadata": {},
          "execution_count": 24
        }
      ]
    },
    {
      "cell_type": "code",
      "source": [
        "# (6-2) 생성한 로지스틱회귀 모델을 이용한 결과 예측\n",
        "# 4시간 공부했을 떄 합격/불합격 확률 예측\n",
        "classifier.predict_proba([[4]])  # 불합격 확률(62%), 합격 확률(38%) 예측"
      ],
      "metadata": {
        "colab": {
          "base_uri": "https://localhost:8080/"
        },
        "id": "Zn_4EfppW_mT",
        "outputId": "0dbff22b-e203-4103-f06a-1a5cb8620dfa"
      },
      "execution_count": 25,
      "outputs": [
        {
          "output_type": "execute_result",
          "data": {
            "text/plain": [
              "array([[0.6249966, 0.3750034]])"
            ]
          },
          "metadata": {},
          "execution_count": 25
        }
      ]
    },
    {
      "cell_type": "code",
      "source": [
        "# 분류결과 예측하기\n",
        "y_pred = classifier.predict(X_test)\n",
        "y_pred   # 테스트 세트를 사용한 y예측값"
      ],
      "metadata": {
        "colab": {
          "base_uri": "https://localhost:8080/"
        },
        "id": "GN91HWzZce8K",
        "outputId": "443d0fb2-ec7d-4e20-d1cc-b2d067f740da"
      },
      "execution_count": 27,
      "outputs": [
        {
          "output_type": "execute_result",
          "data": {
            "text/plain": [
              "array([1, 0, 1, 1])"
            ]
          },
          "metadata": {},
          "execution_count": 27
        }
      ]
    },
    {
      "cell_type": "code",
      "source": [
        "y_test   # 테스트 세트의 실제 y값"
      ],
      "metadata": {
        "colab": {
          "base_uri": "https://localhost:8080/"
        },
        "id": "ICUi10lLdFia",
        "outputId": "d4367e66-12f0-45e2-8a45-bb2f8928effb"
      },
      "execution_count": 28,
      "outputs": [
        {
          "output_type": "execute_result",
          "data": {
            "text/plain": [
              "array([1, 0, 1, 0])"
            ]
          },
          "metadata": {},
          "execution_count": 28
        }
      ]
    },
    {
      "cell_type": "code",
      "source": [
        "X_test   # 테스트 세트의 X값"
      ],
      "metadata": {
        "colab": {
          "base_uri": "https://localhost:8080/"
        },
        "id": "WL5oZ0_rdFlE",
        "outputId": "f6cb023a-7a1d-4785-fcb8-929bfb3a15fb"
      },
      "execution_count": 29,
      "outputs": [
        {
          "output_type": "execute_result",
          "data": {
            "text/plain": [
              "array([[ 8.6],\n",
              "       [ 1.2],\n",
              "       [10. ],\n",
              "       [ 4.5]])"
            ]
          },
          "metadata": {},
          "execution_count": 29
        }
      ]
    },
    {
      "cell_type": "code",
      "source": [
        "# 모델 평가 (테스트 세트 사용)\n",
        "classifier.score(X_test, y_test) # 모델 평가\n",
        "# 전체 테스트 세트 4개 중, 분류 예측을 올바르게 맞힌 갯수 3/4"
      ],
      "metadata": {
        "colab": {
          "base_uri": "https://localhost:8080/"
        },
        "id": "ubb5i2dcdFnk",
        "outputId": "2eb03af7-3b6f-416a-c38d-9a1f99398d2c"
      },
      "execution_count": 31,
      "outputs": [
        {
          "output_type": "execute_result",
          "data": {
            "text/plain": [
              "0.75"
            ]
          },
          "metadata": {},
          "execution_count": 31
        }
      ]
    },
    {
      "cell_type": "markdown",
      "source": [
        "### **데이터 시각화(훈련 세트 활용)**"
      ],
      "metadata": {
        "id": "p8JnrTxthcgw"
      }
    },
    {
      "cell_type": "code",
      "source": [
        "# 데이터 시각화 (훈련 세트 활용)\n",
        "X_range = np.arange(min(X), max(X), 0.1)  # X 최솟값에서 최댓값까지를 0.1단위로 잘라서 데이터를 생성성\n",
        "X_range"
      ],
      "metadata": {
        "id": "gXT-j1naeZaB"
      },
      "execution_count": null,
      "outputs": []
    },
    {
      "cell_type": "code",
      "source": [
        "# p = 1 / (1 + np.exp(-y))   # y = mx + b\n",
        "# p = 1 / (1 + np.exp(-(m*X_range + b)))\n",
        "p = 1 / (1+np.exp(-(classifier.coef_ * X_range + classifier.intercept_)))\n",
        "p"
      ],
      "metadata": {
        "id": "6xsAeh1Ae3gG"
      },
      "execution_count": null,
      "outputs": []
    },
    {
      "cell_type": "code",
      "source": [
        "X_range.shape , p.shape"
      ],
      "metadata": {
        "colab": {
          "base_uri": "https://localhost:8080/"
        },
        "id": "wVK_VfoUf2Cm",
        "outputId": "6d2808ef-9faf-4acd-82a8-17087a1efaa2"
      },
      "execution_count": 36,
      "outputs": [
        {
          "output_type": "execute_result",
          "data": {
            "text/plain": [
              "((95,), (1, 95))"
            ]
          },
          "metadata": {},
          "execution_count": 36
        }
      ]
    },
    {
      "cell_type": "code",
      "source": [
        "p = p.reshape(-1)\n",
        "p.shape"
      ],
      "metadata": {
        "colab": {
          "base_uri": "https://localhost:8080/"
        },
        "id": "EvRAxEyFgBmf",
        "outputId": "f3ac080a-5e5d-4cd2-e2fe-0ca677f77e86"
      },
      "execution_count": 39,
      "outputs": [
        {
          "output_type": "execute_result",
          "data": {
            "text/plain": [
              "(95,)"
            ]
          },
          "metadata": {},
          "execution_count": 39
        }
      ]
    },
    {
      "cell_type": "code",
      "source": [
        "plt.scatter(X_train, y_train, color='blue')\n",
        "plt.plot(X_range, p, color='green')\n",
        "plt.plot(X_range, np.full(len(X_range), 0.5), color='red')  # X_range 갯수만큼 0.5로 가득찬 배열 만들기기\n",
        "plt.title('Probability by hours (train)')\n",
        "plt.xlabel('hours')\n",
        "plt.ylabel('P')\n",
        "plt.show()"
      ],
      "metadata": {
        "colab": {
          "base_uri": "https://localhost:8080/",
          "height": 295
        },
        "id": "vsuKkudOgTyN",
        "outputId": "87548c6c-883d-4c44-f0fd-b79f820104c4"
      },
      "execution_count": 44,
      "outputs": [
        {
          "output_type": "display_data",
          "data": {
            "text/plain": [
              "<Figure size 432x288 with 1 Axes>"
            ],
            "image/png": "[encoded data removed]"
          },
          "metadata": {
            "needs_background": "light"
          }
        }
      ]
    },
    {
      "cell_type": "markdown",
      "source": [
        "### **데이터 시각화 (테스트 세트 활용)**"
      ],
      "metadata": {
        "id": "O4wFnLzBhkCq"
      }
    },
    {
      "cell_type": "code",
      "source": [
        "plt.scatter(X_test, y_test, color='blue')\n",
        "plt.plot(X_range, p, color='green')\n",
        "plt.plot(X_range, np.full(len(X_range), 0.5), color='red')  # X_range 갯수만큼 0.5로 가득찬 배열 만들기기\n",
        "plt.title('Probability by hours (test)')\n",
        "plt.xlabel('hours')\n",
        "plt.ylabel('P')\n",
        "plt.show()"
      ],
      "metadata": {
        "colab": {
          "base_uri": "https://localhost:8080/",
          "height": 295
        },
        "id": "7vHQbhAQhnon",
        "outputId": "f750f203-e761-4136-b5fc-c4e0fad57c36"
      },
      "execution_count": 45,
      "outputs": [
        {
          "output_type": "display_data",
          "data": {
            "text/plain": [
              "<Figure size 432x288 with 1 Axes>"
            ],
            "image/png": "[encoded data removed]"
          },
          "metadata": {
            "needs_background": "light"
          }
        }
      ]
    },
    {
      "cell_type": "code",
      "source": [
        "classifier.predict_proba([[4.5]]) # 4.5시간 공부했을 때, 불합격/합격 확률"
      ],
      "metadata": {
        "colab": {
          "base_uri": "https://localhost:8080/"
        },
        "id": "aUEBjNwKh6CX",
        "outputId": "89247668-5f15-41cc-e1e2-2a4f15cb5a69"
      },
      "execution_count": 47,
      "outputs": [
        {
          "output_type": "execute_result",
          "data": {
            "text/plain": [
              "array([[0.48310686, 0.51689314]])"
            ]
          },
          "metadata": {},
          "execution_count": 47
        }
      ]
    }
  ]
}