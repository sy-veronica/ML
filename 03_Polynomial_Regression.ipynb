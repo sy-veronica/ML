{
  "nbformat": 4,
  "nbformat_minor": 0,
  "metadata": {
    "colab": {
      "provenance": [],
      "mount_file_id": "1XX0XW3wP8uBlcJNt0hyxMFohxFMWBCt9",
      "authorship_tag": "ABX9TyMqFnIzKb7AFRM5kj0VnMav",
      "include_colab_link": true
    },
    "kernelspec": {
      "name": "python3",
      "display_name": "Python 3"
    },
    "language_info": {
      "name": "python"
    }
  },
  "cells": [
    {
      "cell_type": "markdown",
      "metadata": {
        "id": "view-in-github",
        "colab_type": "text"
      },
      "source": [
        "<a href=\"https://colab.research.google.com/github/sy-veronica/ML/blob/main/03_Polynomial_Regression.ipynb\" target=\"_parent\"><img src=\"https://colab.research.google.com/assets/colab-badge.svg\" alt=\"Open In Colab\"/></a>"
      ]
    },
    {
      "cell_type": "markdown",
      "source": [
        "# **3. Polynomial Regression (다항회귀)**"
      ],
      "metadata": {
        "id": "hGjexCDXBOG4"
      }
    },
    {
      "cell_type": "markdown",
      "source": [
        "### **공부시간에 따른 시험점수 (우등생)**"
      ],
      "metadata": {
        "id": "7QVgjDK9D7pI"
      }
    },
    {
      "cell_type": "code",
      "execution_count": null,
      "metadata": {
        "id": "v2Yh_WC8BKR2"
      },
      "outputs": [],
      "source": [
        "# (1) 라이브러리 불러오기\n",
        "import numpy as np\n",
        "import pandas as pd\n",
        "import matplotlib.pyplot as plt"
      ]
    },
    {
      "cell_type": "code",
      "source": [
        "# (2) 데이터셋 불러오기\n",
        "dataset = pd.read_csv('/content/drive/MyDrive/03. 파이썬 (ML)/02. dataset/PolynomialRegressionData.csv') \n",
        "dataset.head()"
      ],
      "metadata": {
        "colab": {
          "base_uri": "https://localhost:8080/",
          "height": 206
        },
        "id": "aLZ2v8BvEXFt",
        "outputId": "f44f9248-d697-4e6d-e433-408a9d3a4c15"
      },
      "execution_count": null,
      "outputs": [
        {
          "output_type": "execute_result",
          "data": {
            "text/plain": [
              "   hour  score\n",
              "0   0.2      2\n",
              "1   0.5      4\n",
              "2   0.8      6\n",
              "3   0.9      4\n",
              "4   1.2      6"
            ],
            "text/html": [
              "\n",
              "  <div id=\"df-b5ebd87f-c1a6-464b-b292-570ce8231438\">\n",
              "    <div class=\"colab-df-container\">\n",
              "      <div>\n",
              "<style scoped>\n",
              "    .dataframe tbody tr th:only-of-type {\n",
              "        vertical-align: middle;\n",
              "    }\n",
              "\n",
              "    .dataframe tbody tr th {\n",
              "        vertical-align: top;\n",
              "    }\n",
              "\n",
              "    .dataframe thead th {\n",
              "        text-align: right;\n",
              "    }\n",
              "</style>\n",
              "<table border=\"1\" class=\"dataframe\">\n",
              "  <thead>\n",
              "    <tr style=\"text-align: right;\">\n",
              "      <th></th>\n",
              "      <th>hour</th>\n",
              "      <th>score</th>\n",
              "    </tr>\n",
              "  </thead>\n",
              "  <tbody>\n",
              "    <tr>\n",
              "      <th>0</th>\n",
              "      <td>0.2</td>\n",
              "      <td>2</td>\n",
              "    </tr>\n",
              "    <tr>\n",
              "      <th>1</th>\n",
              "      <td>0.5</td>\n",
              "      <td>4</td>\n",
              "    </tr>\n",
              "    <tr>\n",
              "      <th>2</th>\n",
              "      <td>0.8</td>\n",
              "      <td>6</td>\n",
              "    </tr>\n",
              "    <tr>\n",
              "      <th>3</th>\n",
              "      <td>0.9</td>\n",
              "      <td>4</td>\n",
              "    </tr>\n",
              "    <tr>\n",
              "      <th>4</th>\n",
              "      <td>1.2</td>\n",
              "      <td>6</td>\n",
              "    </tr>\n",
              "  </tbody>\n",
              "</table>\n",
              "</div>\n",
              "      <button class=\"colab-df-convert\" onclick=\"convertToInteractive('df-b5ebd87f-c1a6-464b-b292-570ce8231438')\"\n",
              "              title=\"Convert this dataframe to an interactive table.\"\n",
              "              style=\"display:none;\">\n",
              "        \n",
              "  <svg xmlns=\"http://www.w3.org/2000/svg\" height=\"24px\"viewBox=\"0 0 24 24\"\n",
              "       width=\"24px\">\n",
              "    <path d=\"M0 0h24v24H0V0z\" fill=\"none\"/>\n",
              "    <path d=\"M18.56 5.44l.94 2.06.94-2.06 2.06-.94-2.06-.94-.94-2.06-.94 2.06-2.06.94zm-11 1L8.5 8.5l.94-2.06 2.06-.94-2.06-.94L8.5 2.5l-.94 2.06-2.06.94zm10 10l.94 2.06.94-2.06 2.06-.94-2.06-.94-.94-2.06-.94 2.06-2.06.94z\"/><path d=\"M17.41 7.96l-1.37-1.37c-.4-.4-.92-.59-1.43-.59-.52 0-1.04.2-1.43.59L10.3 9.45l-7.72 7.72c-.78.78-.78 2.05 0 2.83L4 21.41c.39.39.9.59 1.41.59.51 0 1.02-.2 1.41-.59l7.78-7.78 2.81-2.81c.8-.78.8-2.07 0-2.86zM5.41 20L4 18.59l7.72-7.72 1.47 1.35L5.41 20z\"/>\n",
              "  </svg>\n",
              "      </button>\n",
              "      \n",
              "  <style>\n",
              "    .colab-df-container {\n",
              "      display:flex;\n",
              "      flex-wrap:wrap;\n",
              "      gap: 12px;\n",
              "    }\n",
              "\n",
              "    .colab-df-convert {\n",
              "      background-color: #E8F0FE;\n",
              "      border: none;\n",
              "      border-radius: 50%;\n",
              "      cursor: pointer;\n",
              "      display: none;\n",
              "      fill: #1967D2;\n",
              "      height: 32px;\n",
              "      padding: 0 0 0 0;\n",
              "      width: 32px;\n",
              "    }\n",
              "\n",
              "    .colab-df-convert:hover {\n",
              "      background-color: #E2EBFA;\n",
              "      box-shadow: 0px 1px 2px rgba(60, 64, 67, 0.3), 0px 1px 3px 1px rgba(60, 64, 67, 0.15);\n",
              "      fill: #174EA6;\n",
              "    }\n",
              "\n",
              "    [theme=dark] .colab-df-convert {\n",
              "      background-color: #3B4455;\n",
              "      fill: #D2E3FC;\n",
              "    }\n",
              "\n",
              "    [theme=dark] .colab-df-convert:hover {\n",
              "      background-color: #434B5C;\n",
              "      box-shadow: 0px 1px 3px 1px rgba(0, 0, 0, 0.15);\n",
              "      filter: drop-shadow(0px 1px 2px rgba(0, 0, 0, 0.3));\n",
              "      fill: #FFFFFF;\n",
              "    }\n",
              "  </style>\n",
              "\n",
              "      <script>\n",
              "        const buttonEl =\n",
              "          document.querySelector('#df-b5ebd87f-c1a6-464b-b292-570ce8231438 button.colab-df-convert');\n",
              "        buttonEl.style.display =\n",
              "          google.colab.kernel.accessAllowed ? 'block' : 'none';\n",
              "\n",
              "        async function convertToInteractive(key) {\n",
              "          const element = document.querySelector('#df-b5ebd87f-c1a6-464b-b292-570ce8231438');\n",
              "          const dataTable =\n",
              "            await google.colab.kernel.invokeFunction('convertToInteractive',\n",
              "                                                     [key], {});\n",
              "          if (!dataTable) return;\n",
              "\n",
              "          const docLinkHtml = 'Like what you see? Visit the ' +\n",
              "            '<a target=\"_blank\" href=https://colab.research.google.com/notebooks/data_table.ipynb>data table notebook</a>'\n",
              "            + ' to learn more about interactive tables.';\n",
              "          element.innerHTML = '';\n",
              "          dataTable['output_type'] = 'display_data';\n",
              "          await google.colab.output.renderOutput(dataTable, element);\n",
              "          const docLink = document.createElement('div');\n",
              "          docLink.innerHTML = docLinkHtml;\n",
              "          element.appendChild(docLink);\n",
              "        }\n",
              "      </script>\n",
              "    </div>\n",
              "  </div>\n",
              "  "
            ]
          },
          "metadata": {},
          "execution_count": 14
        }
      ]
    },
    {
      "cell_type": "code",
      "source": [
        "# (3) X (독립변수=원인), y (종속변수, 결과) 지정하기\n",
        "X = dataset.iloc[:, :-1].values  # 처음부터 마지막 컬럼 직전까지의 데이터\n",
        "y = dataset.iloc[:, -1].values   # 마지막 컬럼 데이터\n",
        "X, y"
      ],
      "metadata": {
        "id": "v7gYPhgJEy-X"
      },
      "execution_count": null,
      "outputs": []
    },
    {
      "cell_type": "code",
      "source": [
        "# (4-1) 단순선형회귀 모델 만들기\n",
        "from sklearn.linear_model import LinearRegression\n",
        "reg = LinearRegression()  # 단순선형회귀 모델 객체 생성\n",
        "reg.fit(X, y)             # 단순순선형회귀 모델 학습 (전체데이터 사용)"
      ],
      "metadata": {
        "colab": {
          "base_uri": "https://localhost:8080/"
        },
        "id": "4O45XUJFFj0c",
        "outputId": "ccf54911-b960-49b5-d13b-36a95ddec45a"
      },
      "execution_count": null,
      "outputs": [
        {
          "output_type": "execute_result",
          "data": {
            "text/plain": [
              "LinearRegression()"
            ]
          },
          "metadata": {},
          "execution_count": 16
        }
      ]
    },
    {
      "cell_type": "code",
      "source": [
        "# (4-2) 단순선형회귀 모델 시각화\n",
        "plt.scatter(X, y, color='blue')             # 훈련데이터 산포도\n",
        "plt.plot(X, reg.predict(X), color='green')  # 단순선형회귀 모델 선 그래프\n",
        "plt.title('Score by hours')  # 그래프 제목\n",
        "plt.xlabel('hours')          # X축 이름\n",
        "plt.ylabel('scores')         # y축 이름\n",
        "plt.show()"
      ],
      "metadata": {
        "colab": {
          "base_uri": "https://localhost:8080/",
          "height": 295
        },
        "id": "3G6AHLGXGVgy",
        "outputId": "4f20a2d7-2960-48d4-c0c8-5b1f7a8d6ac3"
      },
      "execution_count": null,
      "outputs": [
        {
          "output_type": "display_data",
          "data": {
            "text/plain": [
              "<Figure size 432x288 with 1 Axes>"
            ],
            "image/png": "[encoded data removed]"
          },
          "metadata": {
            "needs_background": "light"
          }
        }
      ]
    },
    {
      "cell_type": "code",
      "source": [
        "# (4-3) 단순선형회귀 모델 평가\n",
        "reg.score(X, y)              # 전체데이터로 테스트 및 평가"
      ],
      "metadata": {
        "colab": {
          "base_uri": "https://localhost:8080/"
        },
        "id": "yT6gr6IUGVju",
        "outputId": "0f4336a7-451c-4a61-e053-5554ecad5fcd"
      },
      "execution_count": null,
      "outputs": [
        {
          "output_type": "execute_result",
          "data": {
            "text/plain": [
              "0.8169296513411765"
            ]
          },
          "metadata": {},
          "execution_count": 18
        }
      ]
    },
    {
      "cell_type": "code",
      "source": [
        "# (5) 다항회귀 : X (독립변수=원인), y (종속변수, 결과) 지정하기\n",
        "# 다항회귀의 경우, sklearn에서 별도의 클래스를 제공해주지 않음\n",
        "# 따라서, X (독립변수=원인)를 다항식에 맞게 바꿔준 뒤, 선형회귀를 적용하는 방식으로 진행\n",
        "\n",
        "from sklearn.preprocessing import PolynomialFeatures\n",
        "poly_reg = PolynomialFeatures(degree=4)  \n",
        "X_poly = poly_reg.fit_transform(X)       # X (독립변수=원인) 변환 : [X] → [X^0, X^1, X^2, X^3, X^4]"
      ],
      "metadata": {
        "id": "IIDBxbCQGVl1"
      },
      "execution_count": null,
      "outputs": []
    },
    {
      "cell_type": "code",
      "source": [
        "poly_reg.get_feature_names_out()"
      ],
      "metadata": {
        "colab": {
          "base_uri": "https://localhost:8080/"
        },
        "id": "GLsEv6KeGVol",
        "outputId": "5daab513-2961-4766-cebc-f2a70fdc998b"
      },
      "execution_count": null,
      "outputs": [
        {
          "output_type": "execute_result",
          "data": {
            "text/plain": [
              "array(['1', 'x0', 'x0^2', 'x0^3', 'x0^4'], dtype=object)"
            ]
          },
          "metadata": {},
          "execution_count": 61
        }
      ]
    },
    {
      "cell_type": "code",
      "source": [
        "# (6-1) 다항회귀 모델 만들기\n",
        "lin_reg = LinearRegression() # 다항회귀 모델 객체 생성\n",
        "lin_reg.fit(X_poly, y)       # 다항회귀 모델 학습"
      ],
      "metadata": {
        "colab": {
          "base_uri": "https://localhost:8080/"
        },
        "id": "xV56q907GVrQ",
        "outputId": "29c490d9-2d24-41c5-8502-3be2015ddbc1"
      },
      "execution_count": null,
      "outputs": [
        {
          "output_type": "execute_result",
          "data": {
            "text/plain": [
              "LinearRegression()"
            ]
          },
          "metadata": {},
          "execution_count": 62
        }
      ]
    },
    {
      "cell_type": "code",
      "source": [
        "# (6-2) 다항회귀 모델 시각화\n",
        "plt.scatter(X, y, color='blue')                                         # 훈련데이터 산포도\n",
        "plt.plot(X, lin_reg.predict(poly_reg.fit_transform(X)), color='green')  # 다항회귀 모델 선 그래프\n",
        "plt.title('Score by hours')  # 그래프 제목\n",
        "plt.xlabel('hours')          # X축 이름\n",
        "plt.ylabel('scores')         # y축 이름\n",
        "plt.show()"
      ],
      "metadata": {
        "colab": {
          "base_uri": "https://localhost:8080/",
          "height": 295
        },
        "id": "oJukotM4MGHh",
        "outputId": "2e2f9532-f524-4dc9-dc06-492115783ebb"
      },
      "execution_count": null,
      "outputs": [
        {
          "output_type": "display_data",
          "data": {
            "text/plain": [
              "<Figure size 432x288 with 1 Axes>"
            ],
            "image/png": "[encoded data removed]"
          },
          "metadata": {
            "needs_background": "light"
          }
        }
      ]
    },
    {
      "cell_type": "code",
      "source": [
        "# (6-3) X 값을 세분화하여 그래트의 형태를 부드럽게 만들기기\n",
        "X_range = np.arange(min(X), max(X), 0.1)   # X 최솟값에서 최댓값까지 범위를 0.1단위로 잘라서 데이터 생성\n",
        "X_range = X_range.reshape(-1, 1)           # row 갯수는 자동계산, column 갯수는 1개"
      ],
      "metadata": {
        "id": "Hj9OZmg9NFdW"
      },
      "execution_count": null,
      "outputs": []
    },
    {
      "cell_type": "code",
      "source": [
        "# (6-4) 다항회귀 모델 시각화 (수정정)\n",
        "plt.scatter(X, y, color='blue')                                                     # 훈련데이터 산포도\n",
        "plt.plot(X_range, lin_reg.predict(poly_reg.fit_transform(X_range)), color='green')  # 다항회귀 모델 선 그래프\n",
        "plt.title('Score by hours')  # 그래프 제목\n",
        "plt.xlabel('hours')          # X축 이름\n",
        "plt.ylabel('scores')         # y축 이름\n",
        "plt.show()"
      ],
      "metadata": {
        "colab": {
          "base_uri": "https://localhost:8080/",
          "height": 295
        },
        "id": "kaknOgZvNFiG",
        "outputId": "52ff9d8b-3e48-43ea-e394-41dff29ecda0"
      },
      "execution_count": null,
      "outputs": [
        {
          "output_type": "display_data",
          "data": {
            "text/plain": [
              "<Figure size 432x288 with 1 Axes>"
            ],
            "image/png": "[encoded data removed]"
          },
          "metadata": {
            "needs_background": "light"
          }
        }
      ]
    },
    {
      "cell_type": "markdown",
      "source": [
        "### **공부시간에 따른 시험성적 예측**"
      ],
      "metadata": {
        "id": "C5tTAqiyPJNq"
      }
    },
    {
      "cell_type": "code",
      "source": [
        "# (7-1) 생성한 단순선형회귀 모델을 이용한 결과 예측\n",
        "reg.predict([[2]])    # 2시간 공부했을 때, 단순선형회귀 모델의 예측값(y_pred)"
      ],
      "metadata": {
        "colab": {
          "base_uri": "https://localhost:8080/"
        },
        "id": "uebo3qpSPBM6",
        "outputId": "b60f6007-067a-416e-ebaa-7d7d4dffb8ce"
      },
      "execution_count": null,
      "outputs": [
        {
          "output_type": "execute_result",
          "data": {
            "text/plain": [
              "array([19.85348988])"
            ]
          },
          "metadata": {},
          "execution_count": 70
        }
      ]
    },
    {
      "cell_type": "code",
      "source": [
        "# (7-2) 생성한 다항항회귀 모델을 이용한 결과 예측\n",
        "lin_reg.predict(poly_reg.fit_transform([[2]])) # 2시간 공부했을 때, 다항회귀 모델의 예측값(y_pred)"
      ],
      "metadata": {
        "colab": {
          "base_uri": "https://localhost:8080/"
        },
        "id": "03xWGZYIPBQS",
        "outputId": "56b9dcd9-e7e5-494c-b83a-1966314af7a1"
      },
      "execution_count": null,
      "outputs": [
        {
          "output_type": "execute_result",
          "data": {
            "text/plain": [
              "array([8.70559135])"
            ]
          },
          "metadata": {},
          "execution_count": 71
        }
      ]
    },
    {
      "cell_type": "code",
      "source": [
        "# (8-1) 다항회귀 모델 평가\n",
        "lin_reg.score(X_poly, y)              # 전체데이터로 테스트 및 평가"
      ],
      "metadata": {
        "colab": {
          "base_uri": "https://localhost:8080/"
        },
        "id": "Ft8UPYt1PBWP",
        "outputId": "8f1486da-b444-4f07-ba12-144aaf29d368"
      },
      "execution_count": null,
      "outputs": [
        {
          "output_type": "execute_result",
          "data": {
            "text/plain": [
              "0.9782775579000045"
            ]
          },
          "metadata": {},
          "execution_count": 72
        }
      ]
    },
    {
      "cell_type": "code",
      "source": [],
      "metadata": {
        "id": "hpFB0xQDPBZw"
      },
      "execution_count": null,
      "outputs": []
    }
  ]
}